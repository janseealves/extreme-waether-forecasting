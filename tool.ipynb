{
 "cells": [
  {
   "cell_type": "code",
   "execution_count": 1,
   "id": "7b1416a3",
   "metadata": {},
   "outputs": [
    {
     "name": "stdout",
     "output_type": "stream",
     "text": [
      "Merged 3 files into data/final_dataset.csv\n"
     ]
    }
   ],
   "source": [
    "import pandas as pd \n",
    "\n",
    "# Merge the csv files in the data directory\n",
    "def merge_csv_files(file_list, output_file):\n",
    "    \"\"\"\n",
    "    Merges multiple CSV files into a single CSV file.\n",
    "    \n",
    "    Parameters:\n",
    "    file_list (list): List of file paths to the CSV files to be merged.\n",
    "    output_file (str): Path to the output CSV file.\n",
    "    \"\"\"\n",
    "    # Read and concatenate all CSV files\n",
    "    df_list = [pd.read_csv(file, encoding='latin-1') for file in file_list]\n",
    "    merged_df = pd.concat(df_list, ignore_index=True)\n",
    "\n",
    "    # Order the merged DataFrame by 'Datetime' column\n",
    "    merged_df['datetime'] = pd.to_datetime(merged_df['datetime'], errors='coerce')\n",
    "    merged_df.sort_values(by='datetime', inplace=True)\n",
    "    \n",
    "    # Write the merged DataFrame to a new CSV file\n",
    "    merged_df.to_csv(output_file, index=False, encoding='latin-1')\n",
    "\n",
    "if __name__ == \"__main__\":\n",
    "    # List of CSV files to merge\n",
    "    csv_files = [\n",
    "        'data/Interpolado_jacarepagua.csv',\n",
    "        'data/Interpolado_Marambaia.csv',\n",
    "        'data/Interpolado_VilaMilitar.csv'\n",
    "    ]\n",
    "    \n",
    "    # Output file path\n",
    "    output_csv = 'data/final_dataset.csv'\n",
    "    \n",
    "    # Call the function to merge CSV files\n",
    "    merge_csv_files(csv_files, output_csv)\n",
    "    print(f\"Merged {len(csv_files)} files into {output_csv}\")\n"
   ]
  }
 ],
 "metadata": {
  "kernelspec": {
   "display_name": ".venv",
   "language": "python",
   "name": "python3"
  },
  "language_info": {
   "codemirror_mode": {
    "name": "ipython",
    "version": 3
   },
   "file_extension": ".py",
   "mimetype": "text/x-python",
   "name": "python",
   "nbconvert_exporter": "python",
   "pygments_lexer": "ipython3",
   "version": "3.12.10"
  }
 },
 "nbformat": 4,
 "nbformat_minor": 5
}
