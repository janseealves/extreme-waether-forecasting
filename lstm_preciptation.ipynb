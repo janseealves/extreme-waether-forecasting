{
 "cells": [
  {
   "cell_type": "code",
   "execution_count": 2,
   "id": "55342526-f62e-41c2-b110-9b75283c993c",
   "metadata": {},
   "outputs": [
    {
     "name": "stderr",
     "output_type": "stream",
     "text": [
      "c:\\Users\\janse\\Playground\\final_project_AM\\extreme-waether-forecasting\\.venv\\Lib\\site-packages\\tqdm\\auto.py:21: TqdmWarning: IProgress not found. Please update jupyter and ipywidgets. See https://ipywidgets.readthedocs.io/en/stable/user_install.html\n",
      "  from .autonotebook import tqdm as notebook_tqdm\n"
     ]
    }
   ],
   "source": [
    "import pandas as pd\n",
    "import numpy as np\n",
    "import matplotlib.pyplot as plt\n",
    "from sklearn.metrics import mean_absolute_error, mean_squared_error\n",
    "from codecarbon import EmissionsTracker\n",
    "import matplotlib.dates as mdates\n",
    "from sklearn.preprocessing import StandardScaler\n",
    "import shap\n",
    "import torch\n",
    "import torch.nn as nn\n",
    "from tqdm import tqdm\n",
    "from torch.utils.data import TensorDataset, DataLoader"
   ]
  },
  {
   "cell_type": "code",
   "execution_count": null,
   "id": "2aaf4108",
   "metadata": {},
   "outputs": [
    {
     "name": "stdout",
     "output_type": "stream",
     "text": [
      "Using device: cuda\n",
      "CUDA is available!\n",
      "GPU Name: NVIDIA GeForce RTX 2050\n",
      "GPU Memory: 4.3 GB\n",
      "Number of GPUs: 1\n",
      "Current GPU: 0\n"
     ]
    },
    {
     "data": {
      "text/plain": [
       "device(type='cuda')"
      ]
     },
     "execution_count": 6,
     "metadata": {},
     "output_type": "execute_result"
    }
   ],
   "source": [
    "device = torch.device(\"cuda\" if torch.cuda.is_available() else \"cpu\")\n",
    "print(f\"Using device: {device}\")\n",
    "\n",
    "if torch.cuda.is_available():\n",
    "    print(f\"CUDA is available!\")\n",
    "    print(f\"GPU Name: {torch.cuda.get_device_name(0)}\")\n",
    "    print(f\"GPU Memory: {torch.cuda.get_device_properties(0).total_memory / 1e9:.1f} GB\")\n",
    "    print(f\"Number of GPUs: {torch.cuda.device_count()}\")\n",
    "    print(f\"Current GPU: {torch.cuda.current_device()}\")\n",
    "    \n",
    "    torch.cuda.empty_cache()\n",
    "    \n",
    "    torch.cuda.set_per_process_memory_fraction(0.5)\n",
    "else:\n",
    "    print(\"CUDA is not available. Using CPU.\")\n",
    "\n",
    "device"
   ]
  },
  {
   "cell_type": "code",
   "execution_count": 7,
   "id": "b966186a-78ed-493b-854b-e052ab1c516b",
   "metadata": {},
   "outputs": [
    {
     "name": "stdout",
     "output_type": "stream",
     "text": [
      "<class 'pandas.core.frame.DataFrame'>\n",
      "RangeIndex: 414829 entries, 0 to 414828\n",
      "Data columns (total 18 columns):\n",
      " #   Column                                                 Non-Null Count   Dtype  \n",
      "---  ------                                                 --------------   -----  \n",
      " 0   PRECIPITAÇÃO TOTAL, HORÁRIO (mm)                       414829 non-null  float64\n",
      " 1   PRESSAO ATMOSFERICA AO NIVEL DA ESTACAO, HORARIA (mB)  414829 non-null  float64\n",
      " 2   PRESSÃO ATMOSFERICA MAX.NA HORA ANT. (AUT) (mB)        414829 non-null  float64\n",
      " 3   PRESSÃO ATMOSFERICA MIN. NA HORA ANT. (AUT) (mB)       414829 non-null  float64\n",
      " 4   RADIACAO GLOBAL (Kj/m²)                                414829 non-null  float64\n",
      " 5   TEMPERATURA DO AR - BULBO SECO, HORARIA (°C)           414829 non-null  float64\n",
      " 6   TEMPERATURA DO PONTO DE ORVALHO (°C)                   414829 non-null  float64\n",
      " 7   TEMPERATURA MÁXIMA NA HORA ANT. (AUT) (°C)             414829 non-null  float64\n",
      " 8   TEMPERATURA MÍNIMA NA HORA ANT. (AUT) (°C)             414829 non-null  float64\n",
      " 9   TEMPERATURA ORVALHO MAX. NA HORA ANT. (AUT) (°C)       414829 non-null  float64\n",
      " 10  TEMPERATURA ORVALHO MIN. NA HORA ANT. (AUT) (°C)       414829 non-null  float64\n",
      " 11  UMIDADE REL. MAX. NA HORA ANT. (AUT) (%)               414829 non-null  float64\n",
      " 12  UMIDADE REL. MIN. NA HORA ANT. (AUT) (%)               414829 non-null  float64\n",
      " 13  UMIDADE RELATIVA DO AR, HORARIA (%)                    414829 non-null  float64\n",
      " 14  VENTO, DIREÇÃO HORARIA (gr) (° (gr))                   414829 non-null  float64\n",
      " 15  VENTO, RAJADA MAXIMA (m/s)                             414829 non-null  float64\n",
      " 16  VENTO, VELOCIDADE HORARIA (m/s)                        414829 non-null  float64\n",
      " 17  datetime                                               414829 non-null  object \n",
      "dtypes: float64(17), object(1)\n",
      "memory usage: 57.0+ MB\n"
     ]
    }
   ],
   "source": [
    "df = pd.read_csv('data/all_data.csv', sep=',')\n",
    "df.info()"
   ]
  },
  {
   "cell_type": "code",
   "execution_count": 8,
   "id": "4cb56827-2847-49c2-966c-f1f242546f09",
   "metadata": {},
   "outputs": [],
   "source": [
    "df['datetime'] = pd.to_datetime(df['datetime'])\n",
    "\n",
    "df['year'] = df['datetime'].dt.year\n",
    "df['month'] = df['datetime'].dt.month\n",
    "df['day'] = df['datetime'].dt.day\n",
    "df['hour'] = df['datetime'].dt.hour\n",
    "df['minute'] = df['datetime'].dt.minute\n",
    "df['second'] = df['datetime'].dt.second\n",
    "\n",
    "input_data = df.drop([\n",
    "    'datetime',\n",
    "    'PRECIPITAÇÃO TOTAL, HORÁRIO (mm)'], axis=1)\n",
    "targets = df['PRECIPITAÇÃO TOTAL, HORÁRIO (mm)'].values\n",
    "T = 20                   \n",
    "D = input_data.shape[1] \n",
    "N = len(input_data) - T"
   ]
  },
  {
   "cell_type": "code",
   "execution_count": 9,
   "id": "bb68eced-9b2d-41ee-8726-56d34a116bdf",
   "metadata": {},
   "outputs": [],
   "source": [
    "#Train size: 80% of the total data size\n",
    "train_size = int(len(input_data) * 0.80)\n",
    "\n",
    "# Normalization of the inputs\n",
    "scaler = StandardScaler()\n",
    "scaler.fit(input_data[:train_size + T - 1])\n",
    "input_data = scaler.transform(input_data)\n",
    "\n",
    "# Preparing X_train and y_train\n",
    "X_train = np.zeros((train_size, T, D))\n",
    "y_train = np.zeros((train_size, 1))\n",
    "\n",
    "for t in range(train_size):\n",
    "  X_train[t, :, :] = input_data[t:t+T]\n",
    "  y_train[t] = (targets[t+T])\n",
    "\n",
    "# Preparing X_test and y_test\n",
    "X_test = np.zeros((N - train_size, T, D))\n",
    "y_test = np.zeros((N - train_size, 1))\n",
    "\n",
    "for i in range(N - train_size):\n",
    "  t = i + train_size\n",
    "  X_test[i, :, :] = input_data[t:t+T]\n",
    "  y_test[i] = (targets[t+T])\n",
    "\n",
    "# Make inputs and targets\n",
    "X_train = torch.from_numpy(X_train.astype(np.float32))\n",
    "y_train = torch.from_numpy(y_train.astype(np.float32))\n",
    "X_test = torch.from_numpy(X_test.astype(np.float32))\n",
    "y_test = torch.from_numpy(y_test.astype(np.float32))"
   ]
  },
  {
   "cell_type": "code",
   "execution_count": null,
   "id": "d4ab9d7e-05d1-4ff8-adc1-30e6eb9c1c1e",
   "metadata": {},
   "outputs": [],
   "source": [
    "class LSTM(nn.Module):\n",
    "  def __init__(self, input_dim, hidden_dim, layer_dim, output_dim):\n",
    "    super(LSTM, self).__init__()\n",
    "    self.M = hidden_dim\n",
    "    self.L = layer_dim\n",
    "\n",
    "    self.rnn = nn.LSTM(\n",
    "        input_size=input_dim,\n",
    "        hidden_size=hidden_dim,\n",
    "        num_layers=layer_dim,\n",
    "        batch_first=True)\n",
    "    self.fc = nn.Linear(hidden_dim, output_dim)\n",
    "\n",
    "  def forward(self, X):\n",
    "    device = X.device \n",
    "    h0 = torch.zeros(self.L, X.size(0), self.M).to(device)\n",
    "    c0 = torch.zeros(self.L, X.size(0), self.M).to(device)\n",
    "\n",
    "    out, (hn, cn) = self.rnn(X, (h0.detach(), c0.detach()))\n",
    "    \n",
    "    out = self.fc(out[:, -1, :])\n",
    "    return out"
   ]
  },
  {
   "cell_type": "code",
   "execution_count": 52,
   "id": "e51f2aab-d3cf-43b8-bbbe-c94e992da895",
   "metadata": {},
   "outputs": [],
   "source": [
    "model = LSTM(input_dim=D, hidden_dim=256, layer_dim=2, output_dim=1)\n",
    "criterion = nn.MSELoss()\n",
    "optimizer = torch.optim.Adam(model.parameters(), lr=0.01)"
   ]
  },
  {
   "cell_type": "code",
   "execution_count": 53,
   "id": "f52b960f-ea00-437c-b58f-36c4aec61152",
   "metadata": {},
   "outputs": [],
   "source": [
    "def train(model, learning_rate, X_train, y_train, X_test, y_test, epochs=100, batch_size=32):\n",
    "    device = torch.device(\"cuda\" if torch.cuda.is_available() else \"cpu\")\n",
    "    model.to(device)\n",
    "\n",
    "    criterion = nn.MSELoss()\n",
    "    optimizer = torch.optim.Adam(model.parameters(), lr=learning_rate, weight_decay=1e-5)\n",
    "\n",
    "    train_dataset = TensorDataset(X_train, y_train)\n",
    "    test_dataset = TensorDataset(X_test, y_test)\n",
    "    \n",
    "    train_loader = DataLoader(train_dataset, batch_size=batch_size, shuffle=True)\n",
    "    test_loader = DataLoader(test_dataset, batch_size=batch_size, shuffle=False)\n",
    "\n",
    "    train_losses = []\n",
    "    test_losses = []\n",
    "\n",
    "    for epoch in range(epochs):\n",
    "        model.train()\n",
    "        running_loss = 0.0\n",
    "\n",
    "        for inputs, labels in tqdm(train_loader, desc=f\"Epoch {epoch+1}/{epochs}\", leave=False):\n",
    "            inputs, labels = inputs.to(device), labels.to(device)\n",
    "\n",
    "            optimizer.zero_grad()\n",
    "            outputs = model(inputs)\n",
    "            loss = criterion(outputs, labels)\n",
    "            loss.backward()\n",
    "            optimizer.step()\n",
    "\n",
    "            running_loss += loss.item() * inputs.size(0)\n",
    "\n",
    "        epoch_loss = running_loss / len(train_loader.dataset)\n",
    "        train_losses.append(epoch_loss)\n",
    "\n",
    "        model.eval()\n",
    "        test_loss = 0.0\n",
    "        with torch.no_grad():\n",
    "            for inputs, labels in test_loader:\n",
    "                inputs, labels = inputs.to(device), labels.to(device)\n",
    "                outputs = model(inputs)\n",
    "                loss = criterion(outputs, labels)\n",
    "                test_loss += loss.item() * inputs.size(0)\n",
    "\n",
    "        test_loss /= len(test_loader.dataset)\n",
    "        test_losses.append(test_loss)\n",
    "\n",
    "        print(f\"Epoch [{epoch+1}/{epochs}] — Train Loss: {epoch_loss:.4f}, Test Loss: {test_loss:.4f}\")\n",
    "\n",
    "    return train_losses, test_losses"
   ]
  },
  {
   "cell_type": "code",
   "execution_count": null,
   "id": "886ede5f-f285-4144-a0c8-09a9c17b0448",
   "metadata": {},
   "outputs": [],
   "source": [
    "def return_rmse(model, X_test, y_test, batch_size=32):\n",
    "    model.eval()\n",
    "    device = next(model.parameters()).device\n",
    "    \n",
    "    if torch.cuda.is_available():\n",
    "        torch.cuda.empty_cache()\n",
    "\n",
    "    predictions = []\n",
    "    with torch.no_grad():\n",
    "        for i in range(0, len(X_test), batch_size):\n",
    "            batch_X = X_test[i:i+batch_size].to(device)\n",
    "            batch_pred = model(batch_X).cpu()\n",
    "            predictions.append(batch_pred)\n",
    "            \n",
    "            if torch.cuda.is_available():\n",
    "                torch.cuda.empty_cache()\n",
    "    \n",
    "    y_pred = torch.cat(predictions, dim=0)\n",
    "    y_true_np = y_test.cpu().numpy().flatten()\n",
    "    y_pred_np = y_pred.numpy().flatten()\n",
    "\n",
    "    rmse = np.sqrt(mean_squared_error(y_true_np, y_pred_np))\n",
    "    return rmse"
   ]
  },
  {
   "cell_type": "code",
   "execution_count": 55,
   "id": "99f8a79f-ed6f-4075-8883-453f7bb87bfa",
   "metadata": {},
   "outputs": [
    {
     "name": "stderr",
     "output_type": "stream",
     "text": [
      "                                                                \r"
     ]
    },
    {
     "name": "stdout",
     "output_type": "stream",
     "text": [
      "Epoch [1/25] — Train Loss: 1.1899, Test Loss: 1.4622\n"
     ]
    },
    {
     "name": "stderr",
     "output_type": "stream",
     "text": [
      "                                                                \r"
     ]
    },
    {
     "name": "stdout",
     "output_type": "stream",
     "text": [
      "Epoch [2/25] — Train Loss: 1.1907, Test Loss: 1.6586\n"
     ]
    },
    {
     "name": "stderr",
     "output_type": "stream",
     "text": [
      "                                                                \r"
     ]
    },
    {
     "name": "stdout",
     "output_type": "stream",
     "text": [
      "Epoch [3/25] — Train Loss: 1.1912, Test Loss: 1.4742\n"
     ]
    },
    {
     "name": "stderr",
     "output_type": "stream",
     "text": [
      "                                                                \r"
     ]
    },
    {
     "name": "stdout",
     "output_type": "stream",
     "text": [
      "Epoch [4/25] — Train Loss: 1.1566, Test Loss: 1.4450\n"
     ]
    },
    {
     "name": "stderr",
     "output_type": "stream",
     "text": [
      "                                                                \r"
     ]
    },
    {
     "name": "stdout",
     "output_type": "stream",
     "text": [
      "Epoch [5/25] — Train Loss: 1.1556, Test Loss: 1.4896\n"
     ]
    },
    {
     "name": "stderr",
     "output_type": "stream",
     "text": [
      "                                                                \r"
     ]
    },
    {
     "name": "stdout",
     "output_type": "stream",
     "text": [
      "Epoch [6/25] — Train Loss: 1.1508, Test Loss: 1.5093\n"
     ]
    },
    {
     "name": "stderr",
     "output_type": "stream",
     "text": [
      "                                                                \r"
     ]
    },
    {
     "name": "stdout",
     "output_type": "stream",
     "text": [
      "Epoch [7/25] — Train Loss: 1.1579, Test Loss: 1.4551\n"
     ]
    },
    {
     "name": "stderr",
     "output_type": "stream",
     "text": [
      "                                                                \r"
     ]
    },
    {
     "name": "stdout",
     "output_type": "stream",
     "text": [
      "Epoch [8/25] — Train Loss: 1.1547, Test Loss: 1.4528\n"
     ]
    },
    {
     "name": "stderr",
     "output_type": "stream",
     "text": [
      "                                                                \r"
     ]
    },
    {
     "name": "stdout",
     "output_type": "stream",
     "text": [
      "Epoch [9/25] — Train Loss: 1.1517, Test Loss: 1.5216\n"
     ]
    },
    {
     "name": "stderr",
     "output_type": "stream",
     "text": [
      "                                                                 \r"
     ]
    },
    {
     "name": "stdout",
     "output_type": "stream",
     "text": [
      "Epoch [10/25] — Train Loss: 1.1460, Test Loss: 1.5111\n"
     ]
    },
    {
     "name": "stderr",
     "output_type": "stream",
     "text": [
      "                                                                 \r"
     ]
    },
    {
     "name": "stdout",
     "output_type": "stream",
     "text": [
      "Epoch [11/25] — Train Loss: 1.1459, Test Loss: 1.4474\n"
     ]
    },
    {
     "name": "stderr",
     "output_type": "stream",
     "text": [
      "                                                                 \r"
     ]
    },
    {
     "name": "stdout",
     "output_type": "stream",
     "text": [
      "Epoch [12/25] — Train Loss: 1.1575, Test Loss: 1.4893\n"
     ]
    },
    {
     "name": "stderr",
     "output_type": "stream",
     "text": [
      "                                                                 \r"
     ]
    },
    {
     "name": "stdout",
     "output_type": "stream",
     "text": [
      "Epoch [13/25] — Train Loss: 1.1532, Test Loss: 1.4366\n"
     ]
    },
    {
     "name": "stderr",
     "output_type": "stream",
     "text": [
      "                                                                 \r"
     ]
    },
    {
     "name": "stdout",
     "output_type": "stream",
     "text": [
      "Epoch [14/25] — Train Loss: 1.1452, Test Loss: 1.5115\n"
     ]
    },
    {
     "name": "stderr",
     "output_type": "stream",
     "text": [
      "                                                                 \r"
     ]
    },
    {
     "name": "stdout",
     "output_type": "stream",
     "text": [
      "Epoch [15/25] — Train Loss: 1.1515, Test Loss: 1.4281\n"
     ]
    },
    {
     "name": "stderr",
     "output_type": "stream",
     "text": [
      "                                                                 \r"
     ]
    },
    {
     "name": "stdout",
     "output_type": "stream",
     "text": [
      "Epoch [16/25] — Train Loss: 1.1555, Test Loss: 1.4424\n"
     ]
    },
    {
     "name": "stderr",
     "output_type": "stream",
     "text": [
      "                                                                 \r"
     ]
    },
    {
     "name": "stdout",
     "output_type": "stream",
     "text": [
      "Epoch [17/25] — Train Loss: 1.1570, Test Loss: 1.4389\n"
     ]
    },
    {
     "name": "stderr",
     "output_type": "stream",
     "text": [
      "                                                                 \r"
     ]
    },
    {
     "name": "stdout",
     "output_type": "stream",
     "text": [
      "Epoch [18/25] — Train Loss: 1.1589, Test Loss: 1.4244\n"
     ]
    },
    {
     "name": "stderr",
     "output_type": "stream",
     "text": [
      "                                                                 \r"
     ]
    },
    {
     "name": "stdout",
     "output_type": "stream",
     "text": [
      "Epoch [19/25] — Train Loss: 1.1543, Test Loss: 1.4419\n"
     ]
    },
    {
     "name": "stderr",
     "output_type": "stream",
     "text": [
      "                                                                 \r"
     ]
    },
    {
     "name": "stdout",
     "output_type": "stream",
     "text": [
      "Epoch [20/25] — Train Loss: 1.1579, Test Loss: 1.4477\n"
     ]
    },
    {
     "name": "stderr",
     "output_type": "stream",
     "text": [
      "                                                                 \r"
     ]
    },
    {
     "name": "stdout",
     "output_type": "stream",
     "text": [
      "Epoch [21/25] — Train Loss: 1.1545, Test Loss: 1.4486\n"
     ]
    },
    {
     "name": "stderr",
     "output_type": "stream",
     "text": [
      "                                                                 \r"
     ]
    },
    {
     "name": "stdout",
     "output_type": "stream",
     "text": [
      "Epoch [22/25] — Train Loss: 1.1481, Test Loss: 1.4752\n"
     ]
    },
    {
     "name": "stderr",
     "output_type": "stream",
     "text": [
      "                                                                 \r"
     ]
    },
    {
     "name": "stdout",
     "output_type": "stream",
     "text": [
      "Epoch [23/25] — Train Loss: 1.1574, Test Loss: 1.5178\n"
     ]
    },
    {
     "name": "stderr",
     "output_type": "stream",
     "text": [
      "                                                                 \r"
     ]
    },
    {
     "name": "stdout",
     "output_type": "stream",
     "text": [
      "Epoch [24/25] — Train Loss: 1.1565, Test Loss: 1.4416\n"
     ]
    },
    {
     "name": "stderr",
     "output_type": "stream",
     "text": [
      "                                                                 \r"
     ]
    },
    {
     "name": "stdout",
     "output_type": "stream",
     "text": [
      "Epoch [25/25] — Train Loss: 1.1563, Test Loss: 1.4388\n",
      "emissions=0.0022127860026204356\n"
     ]
    }
   ],
   "source": [
    "tracker = EmissionsTracker(\n",
    "    project_name=\"PRECIPTATION lstm\",\n",
    "    output_file='codecarbon-lstm/codecarbon_emissions_prec.csv',\n",
    "    log_level = \"critical\"\n",
    ")\n",
    "\n",
    "tracker.start()\n",
    "\n",
    "train_losses, test_losses = train(\n",
    "    model,\n",
    "    learning_rate=0.01,\n",
    "    X_train=X_train,\n",
    "    y_train=y_train,\n",
    "    X_test=X_test,\n",
    "    y_test=y_test,\n",
    "    epochs=25,\n",
    "    batch_size=64\n",
    ")\n",
    "\n",
    "emissions: float = tracker.stop()\n",
    "print(f\"emissions={emissions}\")"
   ]
  },
  {
   "cell_type": "code",
   "execution_count": null,
   "id": "6b5bfa34",
   "metadata": {},
   "outputs": [],
   "source": [
    "# Export the model as a pth file\n",
    "torch.save(model.state_dict(), 'lstm_precipitation_model.pth')"
   ]
  },
  {
   "cell_type": "code",
   "execution_count": 13,
   "id": "c65ff4f1",
   "metadata": {},
   "outputs": [
    {
     "name": "stdout",
     "output_type": "stream",
     "text": [
      "Model loaded successfully and moved to device: cuda\n"
     ]
    }
   ],
   "source": [
    "# Carrega o modelo salvo, para evitar recriação\n",
    "model = LSTM(input_dim=D, hidden_dim=256, layer_dim=2, output_dim=1)\n",
    "model.load_state_dict(torch.load('lstm_precipitation_model.pth', weights_only=True))\n",
    "model = model.to(device)\n",
    "\n",
    "model.eval()\n",
    "\n",
    "print(\"Model loaded successfully and moved to device:\", device)"
   ]
  },
  {
   "cell_type": "code",
   "execution_count": null,
   "id": "02645016-8e8a-4c6c-90e5-4f7eb4a398b0",
   "metadata": {},
   "outputs": [],
   "source": [
    "def plot_dispersion(model, X_test, y_test, batch_size=32):\n",
    "    model.eval()\n",
    "    device = next(model.parameters()).device  # Get the model's device (CPU or CUDA)\n",
    "    \n",
    "    if torch.cuda.is_available():\n",
    "        torch.cuda.empty_cache()\n",
    "    \n",
    "    predictions = []\n",
    "    with torch.no_grad():\n",
    "        for i in range(0, len(X_test), batch_size):\n",
    "            batch_X = X_test[i:i+batch_size].to(device)\n",
    "            batch_pred = model(batch_X).cpu()  # Move back to CPU immediately\n",
    "            predictions.append(batch_pred)\n",
    "            \n",
    "            if torch.cuda.is_available():\n",
    "                torch.cuda.empty_cache()\n",
    "    \n",
    "    y_pred = torch.cat(predictions, dim=0)\n",
    "    y_true_np = y_test.cpu().numpy().flatten()\n",
    "    y_pred_np = y_pred.numpy().flatten()\n",
    "\n",
    "    rmse = np.sqrt(mean_squared_error(y_true_np, y_pred_np))\n",
    "    mae = mean_absolute_error(y_true_np, y_pred_np)\n",
    "    \n",
    "    plt.figure(figsize=(10, 8))\n",
    "    plt.scatter(y_true_np, y_pred_np, alpha=0.6, color='blue', s=20)\n",
    "    plt.xlabel('True Values (mm)', fontsize=12)\n",
    "    plt.ylabel('Predicted Values (mm)', fontsize=12)\n",
    "    plt.title(f'Precipitation LSTM: True vs Predicted\\nRMSE: {rmse:.4f}, MAE: {mae:.4f}', fontsize=14)\n",
    "    plt.grid(True, alpha=0.3)\n",
    "    \n",
    "    min_val = min(y_true_np.min(), y_pred_np.min())\n",
    "    max_val = max(y_true_np.max(), y_pred_np.max())\n",
    "    plt.plot([min_val, max_val], [min_val, max_val], 'r--', linewidth=2, label='Perfect Prediction')\n",
    "    plt.legend()\n",
    "    \n",
    "    plt.tight_layout()\n",
    "    plt.savefig('./plots/lstm_prec_dispersion.png', dpi=300, bbox_inches='tight')\n",
    "    plt.show()\n",
    "    \n",
    "    print(f\"📊 Dispersion Plot Metrics:\")\n",
    "    print(f\"   RMSE: {rmse:.4f} mm\")\n",
    "    print(f\"   MAE: {mae:.4f} mm\")\n",
    "    print(f\"   Samples plotted: {len(y_true_np)}\")"
   ]
  },
  {
   "cell_type": "code",
   "execution_count": 15,
   "id": "72da3dde-c674-4da4-b8e1-c05e0a602c04",
   "metadata": {},
   "outputs": [
    {
     "data": {
      "image/png": "[encoded data removed]",
      "text/plain": [
       "<Figure size 1000x800 with 1 Axes>"
      ]
     },
     "metadata": {},
     "output_type": "display_data"
    },
    {
     "name": "stdout",
     "output_type": "stream",
     "text": [
      "📊 Dispersion Plot Metrics:\n",
      "   RMSE: 1.1995 mm\n",
      "   MAE: 0.2915 mm\n",
      "   Samples plotted: 82946\n"
     ]
    }
   ],
   "source": [
    "plot_dispersion(model, X_test, y_test)"
   ]
  },
  {
   "cell_type": "code",
   "execution_count": 23,
   "id": "e98978b7",
   "metadata": {},
   "outputs": [
    {
     "name": "stdout",
     "output_type": "stream",
     "text": [
      "GPU Memory before plotting: 0.03 GB\n",
      "GPU Memory cached: 0.04 GB\n",
      "GPU cache cleared!\n"
     ]
    }
   ],
   "source": [
    "# Limpar memória GPU antes de executar funções de plot\n",
    "if torch.cuda.is_available():\n",
    "    torch.cuda.empty_cache()\n",
    "    print(f\"GPU Memory before plotting: {torch.cuda.memory_allocated()/1e9:.2f} GB\")\n",
    "    print(f\"GPU Memory cached: {torch.cuda.memory_reserved()/1e9:.2f} GB\")\n",
    "    print(\"GPU cache cleared!\")"
   ]
  },
  {
   "cell_type": "code",
   "execution_count": null,
   "id": "9041b2aa-adfc-4596-b49f-48111fd4b5e4",
   "metadata": {},
   "outputs": [],
   "source": [
    "def plot_real_vs_predicted(model, X_test, y_test, batch_size=32, sample_limit=1000):\n",
    "    model.eval()\n",
    "    device = next(model.parameters()).device \n",
    "    \n",
    "    if torch.cuda.is_available():\n",
    "        torch.cuda.empty_cache()\n",
    "    \n",
    "    predictions = []\n",
    "    with torch.no_grad():\n",
    "        for i in range(0, len(X_test), batch_size):\n",
    "            batch_X = X_test[i:i+batch_size].to(device)\n",
    "            batch_pred = model(batch_X).cpu() \n",
    "            predictions.append(batch_pred)\n",
    "            \n",
    "            if torch.cuda.is_available():\n",
    "                torch.cuda.empty_cache()\n",
    "    \n",
    "    y_pred = torch.cat(predictions, dim=0)\n",
    "    y_true_np = y_test.cpu().numpy().flatten()\n",
    "    y_pred_np = y_pred.numpy().flatten()\n",
    "\n",
    "    if len(y_true_np) > sample_limit:\n",
    "        indices = np.linspace(0, len(y_true_np)-1, sample_limit, dtype=int)\n",
    "        y_true_plot = y_true_np[indices]\n",
    "        y_pred_plot = y_pred_np[indices]\n",
    "        print(f\"📊 Plotting {sample_limit} samples out of {len(y_true_np)} for better visualization\")\n",
    "    else:\n",
    "        y_true_plot = y_true_np\n",
    "        y_pred_plot = y_pred_np\n",
    "\n",
    "    rmse = np.sqrt(mean_squared_error(y_true_np, y_pred_np))\n",
    "    mae = mean_absolute_error(y_true_np, y_pred_np)\n",
    "\n",
    "    plt.figure(figsize=(14, 6))\n",
    "    plt.plot(y_true_plot, label='Real', linewidth=1.5, alpha=0.8, color='blue')\n",
    "    plt.plot(y_pred_plot, label='Predicted', linewidth=1.5, alpha=0.8, color='orange')\n",
    "    plt.title(f'Precipitation LSTM: Real vs Predicted Values\\nRMSE: {rmse:.4f} mm, MAE: {mae:.4f} mm', fontsize=14)\n",
    "    plt.xlabel('Sample Index', fontsize=12)\n",
    "    plt.ylabel('Precipitation (mm)', fontsize=12)\n",
    "    plt.legend()\n",
    "    plt.grid(True, alpha=0.3)\n",
    "    plt.tight_layout()\n",
    "    plt.savefig('./plots/lstm_prec_real_x_pred.png', dpi=300, bbox_inches='tight')\n",
    "    plt.show()\n",
    "    \n",
    "    print(f\"📈 Model Performance Metrics:\")\n",
    "    print(f\"   RMSE: {rmse:.4f} mm\")\n",
    "    print(f\"   MAE: {mae:.4f} mm\")\n",
    "    print(f\"   Total test samples: {len(y_true_np)}\")"
   ]
  },
  {
   "cell_type": "code",
   "execution_count": 61,
   "id": "3432cba8-0686-453e-aeb3-3e5bc7aeb6bf",
   "metadata": {},
   "outputs": [
    {
     "data": {
      "image/png": "[encoded data removed]",
      "text/plain": [
       "<Figure size 1200x600 with 1 Axes>"
      ]
     },
     "metadata": {},
     "output_type": "display_data"
    }
   ],
   "source": [
    "plot_real_vs_predicted(model, X_test, y_test)"
   ]
  },
  {
   "cell_type": "code",
   "execution_count": null,
   "id": "a363167d-871d-45ef-908c-7e135bf25999",
   "metadata": {},
   "outputs": [],
   "source": [
    "def print_rmse(model, X_test, y_test, batch_size=32):\n",
    "    model.eval()\n",
    "    device = next(model.parameters()).device\n",
    "    \n",
    "    if torch.cuda.is_available():\n",
    "        torch.cuda.empty_cache()\n",
    "    \n",
    "    predictions = []\n",
    "    with torch.no_grad():\n",
    "        for i in range(0, len(X_test), batch_size):\n",
    "            batch_X = X_test[i:i+batch_size].to(device)\n",
    "            batch_pred = model(batch_X).cpu() \n",
    "            predictions.append(batch_pred)\n",
    "            \n",
    "            if torch.cuda.is_available():\n",
    "                torch.cuda.empty_cache()\n",
    "    \n",
    "    y_pred = torch.cat(predictions, dim=0)\n",
    "    y_true_np = y_test.cpu().numpy().flatten()\n",
    "    y_pred_np = y_pred.numpy().flatten()\n",
    "\n",
    "    rmse = np.sqrt(mean_squared_error(y_true_np, y_pred_np))\n",
    "    mae = mean_absolute_error(y_true_np, y_pred_np)\n",
    "    mse = mean_squared_error(y_true_np, y_pred_np)\n",
    "    \n",
    "    correlation = np.corrcoef(y_true_np, y_pred_np)[0,1]\n",
    "    \n",
    "    print(f\"📊 PRECIPITATION LSTM MODEL EVALUATION:\")\n",
    "    print(f\"   RMSE: {rmse:.4f} mm\")\n",
    "    print(f\"   MAE:  {mae:.4f} mm\") \n",
    "    print(f\"   MSE:  {mse:.4f} mm²\")\n",
    "    print(f\"   Correlation: {correlation:.4f}\")\n",
    "    print(f\"   Test samples: {len(y_true_np)}\")\n",
    "    \n",
    "    print(f\"\\n📈 DATA STATISTICS:\")\n",
    "    print(f\"   True values  - Mean: {np.mean(y_true_np):.4f}, Std: {np.std(y_true_np):.4f}\")\n",
    "    print(f\"   Predictions  - Mean: {np.mean(y_pred_np):.4f}, Std: {np.std(y_pred_np):.4f}\")\n",
    "    print(f\"   Max true:    {np.max(y_true_np):.4f} mm\")\n",
    "    print(f\"   Max pred:    {np.max(y_pred_np):.4f} mm\")"
   ]
  },
  {
   "cell_type": "code",
   "execution_count": 63,
   "id": "c14d3447-e61c-4006-8b8d-52449af5a38c",
   "metadata": {},
   "outputs": [
    {
     "name": "stdout",
     "output_type": "stream",
     "text": [
      "RMSE: 1.1995\n"
     ]
    }
   ],
   "source": [
    "print_rmse(model, X_test, y_test)"
   ]
  },
  {
   "cell_type": "code",
   "execution_count": null,
   "id": "1bae76c8",
   "metadata": {},
   "outputs": [],
   "source": [
    "def plot_lstm_prediction_over_time(model, X_test, y_test, timestamps, start_date=None, end_date=None, save=False, batch_size=32):\n",
    "    model.eval()\n",
    "    device = next(model.parameters()).device\n",
    "\n",
    "    if torch.cuda.is_available():\n",
    "        torch.cuda.empty_cache()\n",
    "    \n",
    "    predictions = []\n",
    "    with torch.no_grad():\n",
    "        for i in range(0, len(X_test), batch_size):\n",
    "            batch_X = X_test[i:i+batch_size].to(device)\n",
    "            batch_pred = model(batch_X).cpu()  \n",
    "            predictions.append(batch_pred)\n",
    "            \n",
    "            if torch.cuda.is_available():\n",
    "                torch.cuda.empty_cache()\n",
    "\n",
    "    y_pred = torch.cat(predictions, dim=0)\n",
    "    y_true_np = y_test.cpu().numpy().flatten()\n",
    "    y_pred_np = y_pred.numpy().flatten()\n",
    "    timestamps = pd.to_datetime(timestamps)\n",
    "\n",
    "    data = pd.DataFrame({\n",
    "        'Timestamp': timestamps,\n",
    "        'Actual': y_true_np,\n",
    "        'Predicted': y_pred_np\n",
    "    })\n",
    "\n",
    "    if start_date:\n",
    "        data = data[data['Timestamp'] >= pd.to_datetime(start_date)]\n",
    "    if end_date:\n",
    "        data = data[data['Timestamp'] <= pd.to_datetime(end_date)]\n",
    "\n",
    "    plt.figure(figsize=(12, 6))\n",
    "    plt.plot(data['Timestamp'], data['Actual'], label='Actual Values', color='blue', linewidth=2)\n",
    "    plt.plot(data['Timestamp'], data['Predicted'], label='Predicted Values', color='orange', linewidth=2)\n",
    "    plt.xlabel('Time')\n",
    "    plt.ylabel('Values')\n",
    "    plt.title('LSTM: Actual vs. Predicted Values Over Time')\n",
    "    plt.legend()\n",
    "    plt.grid(True)\n",
    "    plt.tight_layout()\n",
    "\n",
    "    if save:\n",
    "        plt.savefig(save)\n",
    "\n",
    "    plt.show()"
   ]
  },
  {
   "cell_type": "code",
   "execution_count": 65,
   "id": "9b9cf9b3",
   "metadata": {},
   "outputs": [
    {
     "data": {
      "image/png": "[encoded data removed]",
      "text/plain": [
       "<Figure size 1200x600 with 1 Axes>"
      ]
     },
     "metadata": {},
     "output_type": "display_data"
    }
   ],
   "source": [
    "start_date = \"2025-01-01 01:00:00\"\n",
    "end_date = \"2025-01-31 23:00:00\"\n",
    "\n",
    "timestamps = pd.to_datetime(df['datetime'])\n",
    "timestamps_for_plot = timestamps[T:T + N]\n",
    "timestamps_test = timestamps_for_plot[train_size:]\n",
    "\n",
    "plot_lstm_prediction_over_time(model, X_test, y_test, timestamps_test,start_date, end_date, save='./plots/lstm_prec_rvp.png')"
   ]
  },
  {
   "cell_type": "code",
   "execution_count": null,
   "id": "2d5f495c",
   "metadata": {},
   "outputs": [
    {
     "name": "stdout",
     "output_type": "stream",
     "text": [
      "CONFIGURAÇÃO SHAP - PRECIPITATION LSTM:\n",
      "   Background samples: 50\n",
      "   Test samples: 5\n",
      "   Max batch size: 4\n",
      "   SHAP nsamples: 100\n",
      "   Background shape: (50, 440)\n",
      "   Test shape: (5, 440)\n",
      "Creating SHAP KernelExplainer...\n",
      "Computing SHAP values...\n"
     ]
    },
    {
     "name": "stderr",
     "output_type": "stream",
     "text": [
      "100%|██████████| 5/5 [00:11<00:00,  2.39s/it]"
     ]
    },
    {
     "name": "stdout",
     "output_type": "stream",
     "text": [
      "CONFIGURAÇÃO SHAP - PRECIPITATION LSTM:\n",
      "   Background samples: 50\n",
      "   Test samples: 5\n",
      "   Max batch size: 4\n",
      "   SHAP nsamples: 100\n",
      "   Background shape: (50, 440)\n",
      "   Test shape: (5, 440)\n",
      "Creating SHAP KernelExplainer...\n",
      "Computing SHAP values...\n"
     ]
    },
    {
     "name": "stderr",
     "output_type": "stream",
     "text": [
      "100%|██████████| 5/5 [00:11<00:00,  2.39s/it]"
     ]
    },
    {
     "name": "stdout",
     "output_type": "stream",
     "text": [
      "SHAP values shape: (5, 440)\n",
      "Amostras esperadas: 5\n",
      "Amostras analisadas: 5\n",
      "Valores NaN: 0\n",
      "Valores Inf: 0\n",
      "Amostra 0: Soma SHAP = 0.045643, Soma absoluta = 0.045643\n",
      "Amostra 1: Soma SHAP = 0.038980, Soma absoluta = 0.040629\n",
      "Amostra 2: Soma SHAP = 0.038093, Soma absoluta = 0.038093\n"
     ]
    },
    {
     "name": "stderr",
     "output_type": "stream",
     "text": [
      "\n"
     ]
    },
    {
     "data": {
      "text/plain": [
       "0"
      ]
     },
     "execution_count": 34,
     "metadata": {},
     "output_type": "execute_result"
    }
   ],
   "source": [
    "import shap\n",
    "import gc\n",
    "import numpy as np\n",
    "\n",
    "num_background_samples = 100\n",
    "num_test_samples = 100 \n",
    "max_batch_size = 5\n",
    "nsamples = 100\n",
    "\n",
    "torch.cuda.empty_cache()\n",
    "gc.collect()\n",
    "\n",
    "print(\"CONFIGURAÇÃO SHAP - PRECIPITATION LSTM:\")\n",
    "print(f\"   Background samples: {num_background_samples}\")\n",
    "print(f\"   Test samples: {num_test_samples}\")\n",
    "print(f\"   Max batch size: {max_batch_size}\")\n",
    "print(f\"   SHAP nsamples: {nsamples}\")\n",
    "\n",
    "background_data = X_train[:num_background_samples].cpu().numpy()\n",
    "test_data = X_test[:num_test_samples].cpu().numpy()\n",
    "\n",
    "background_flat = background_data.reshape(background_data.shape[0], -1)\n",
    "test_flat = test_data.reshape(test_data.shape[0], -1)\n",
    "\n",
    "print(f\"   Background shape: {background_flat.shape}\")\n",
    "print(f\"   Test shape: {test_flat.shape}\")\n",
    "\n",
    "def lstm_predict_wrapper_precipitation(X_flat):\n",
    "    \"\"\"\n",
    "    Wrapper ultra-conservador para LSTM Precipitation\n",
    "    \"\"\"\n",
    "    if len(X_flat.shape) == 1:\n",
    "        X_flat = X_flat.reshape(1, -1)\n",
    "    \n",
    "    batch_size = X_flat.shape[0]\n",
    "    X_3d = X_flat.reshape(batch_size, T, D)\n",
    "    \n",
    "    predictions = []\n",
    "    \n",
    "    for i in range(0, batch_size, max_batch_size):\n",
    "        torch.cuda.empty_cache()  \n",
    "        \n",
    "        end_idx = min(i + max_batch_size, batch_size)\n",
    "        batch_3d = X_3d[i:end_idx]\n",
    "        \n",
    "        X_tensor = torch.from_numpy(batch_3d.astype(np.float32)).to(device)\n",
    "        \n",
    "        model.eval() \n",
    "        with torch.no_grad():\n",
    "            batch_pred = model(X_tensor).cpu().numpy()\n",
    "            predictions.append(batch_pred)\n",
    "        \n",
    "        del X_tensor\n",
    "    \n",
    "    all_predictions = np.concatenate(predictions, axis=0)\n",
    "    torch.cuda.empty_cache()\n",
    "    \n",
    "    return all_predictions.flatten()\n",
    "\n",
    "print(\"Creating SHAP KernelExplainer...\")\n",
    "explainer = shap.KernelExplainer(lstm_predict_wrapper_precipitation, background_flat)\n",
    "\n",
    "print(\"Computing SHAP values...\")\n",
    "shap_values = explainer.shap_values(test_flat, nsamples=nsamples)\n",
    "\n",
    "print(f\"SHAP values shape: {shap_values.shape}\")\n",
    "\n",
    "expected_samples = num_test_samples\n",
    "actual_samples = shap_values.shape[0]\n",
    "print(f\"Amostras esperadas: {expected_samples}\")\n",
    "print(f\"Amostras analisadas: {actual_samples}\")\n",
    "\n",
    "nan_count = np.isnan(shap_values).sum()\n",
    "inf_count = np.isinf(shap_values).sum()\n",
    "print(f\"Valores NaN: {nan_count}\")\n",
    "print(f\"Valores Inf: {inf_count}\")\n",
    "\n",
    "for i in range(min(3, actual_samples)):\n",
    "    sample_sum = np.sum(shap_values[i])\n",
    "    sample_abs_sum = np.sum(np.abs(shap_values[i]))\n",
    "    print(f\"Amostra {i}: Soma SHAP = {sample_sum:.6f}, Soma absoluta = {sample_abs_sum:.6f}\")\n",
    "\n",
    "torch.cuda.empty_cache()\n",
    "gc.collect()"
   ]
  },
  {
   "cell_type": "code",
   "execution_count": null,
   "id": "4185f86e",
   "metadata": {},
   "outputs": [],
   "source": [
    "import matplotlib.pyplot as plt\n",
    "\n",
    "print(f\"SHAP values shape: {shap_values.shape}\")\n",
    "\n",
    "feature_importance = np.mean(np.abs(shap_values), axis=0)\n",
    "\n",
    "top_n = 15\n",
    "top_indices = np.argsort(feature_importance)[-top_n:][::-1]\n",
    "top_importance = feature_importance[top_indices]\n",
    "\n",
    "feature_names_simple = [f\"Feature_{i}\" for i in top_indices]\n",
    "\n",
    "plt.figure(figsize=(10, 6))\n",
    "bars = plt.bar(range(len(top_importance)), top_imortance, color='steelblue', alpha=0.7)\n",
    "\n",
    "plt.xticks(range(len(top_importance)), feature_names_simple, rotation=45, ha='right')\n",
    "plt.ylabel('SHAP Contribution (Mean |SHAP value|)', fontsize=12)\n",
    "plt.title(f'Top {top_n} Feature Contributions - Precipitation LSTM', fontsize=14)\n",
    "plt.grid(axis='y', alpha=0.3)\n",
    "\n",
    "for i, (bar, value) in enumerate(zip(bars, top_importance)):\n",
    "    plt.text(bar.get_x() + bar.get_width()/2, bar.get_height() + max(top_importance) * 0.01, \n",
    "             f'{value:.4f}', ha='center', va='bottom', fontsize=9)\n",
    "\n",
    "plt.tight_layout()\n",
    "plt.savefig('./plots/shap_contribution_barplot.png', dpi=300, bbox_inches='tight')\n",
    "plt.show()\n",
    "\n",
    "print(f\"✅ Gráfico de contribuição criado com {top_n} features!\")"
   ]
  }
 ],
 "metadata": {
  "kernelspec": {
   "display_name": ".venv",
   "language": "python",
   "name": "python3"
  },
  "language_info": {
   "codemirror_mode": {
    "name": "ipython",
    "version": 3
   },
   "file_extension": ".py",
   "mimetype": "text/x-python",
   "name": "python",
   "nbconvert_exporter": "python",
   "pygments_lexer": "ipython3",
   "version": "3.12.10"
  }
 },
 "nbformat": 4,
 "nbformat_minor": 5
}
